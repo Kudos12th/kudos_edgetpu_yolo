{
  "cells": [
    {
      "cell_type": "code",
      "execution_count": null,
      "metadata": {
        "colab": {
          "base_uri": "https://localhost:8080/"
        },
        "id": "yIZ7CcEcI33e",
        "outputId": "196919cf-07c4-4664-c351-2714037dc827"
      },
      "outputs": [
        {
          "output_type": "stream",
          "name": "stdout",
          "text": [
            "Mounted at /content/drive\n"
          ]
        }
      ],
      "source": [
        "from google.colab import drive\n",
        "drive.mount('/content/drive')"
      ]
    },
    {
      "cell_type": "code",
      "execution_count": null,
      "metadata": {
        "colab": {
          "base_uri": "https://localhost:8080/"
        },
        "id": "l1adeqU3I5i2",
        "outputId": "55b01585-7872-4180-d62a-52510aeda8a1"
      },
      "outputs": [
        {
          "name": "stdout",
          "output_type": "stream",
          "text": [
            "/content/drive/MyDrive/re_yolov5\n",
            "Cloning into 'yolov5'...\n",
            "remote: Enumerating objects: 12769, done.\u001b[K\n",
            "remote: Counting objects: 100% (136/136), done.\u001b[K\n",
            "remote: Compressing objects: 100% (95/95), done.\u001b[K\n",
            "remote: Total 12769 (delta 77), reused 84 (delta 41), pack-reused 12633\u001b[K\n",
            "Receiving objects: 100% (12769/12769), 12.95 MiB | 7.45 MiB/s, done.\n",
            "Resolving deltas: 100% (8786/8786), done.\n"
          ]
        }
      ],
      "source": [
        "%cd \"/content/drive/MyDrive/re_yolov5\"\n",
        "# !git clone https://github.com/ultralytics/yolov5  # clone"
      ]
    },
    {
      "cell_type": "code",
      "execution_count": null,
      "metadata": {
        "colab": {
          "base_uri": "https://localhost:8080/"
        },
        "id": "XFcfHfatJb0-",
        "outputId": "c17fc1a6-13fc-42c6-cec1-1448737f8f04"
      },
      "outputs": [
        {
          "name": "stdout",
          "output_type": "stream",
          "text": [
            "/content/drive/MyDrive/re_yolov5/yolov5\n",
            "\u001b[K     |████████████████████████████████| 1.6 MB 40.3 MB/s \n",
            "\u001b[?25h"
          ]
        }
      ],
      "source": [
        "%cd \"/content/drive/MyDrive/re_yolov5/yolov5\"\n",
        "%pip install -qr requirements.txt  # install"
      ]
    },
    {
      "cell_type": "code",
      "execution_count": null,
      "metadata": {
        "colab": {
          "base_uri": "https://localhost:8080/"
        },
        "id": "pvZ7SIMIJ1QL",
        "outputId": "73ca6023-7dca-4b37-c61f-d364ae552f0c"
      },
      "outputs": [
        {
          "name": "stderr",
          "output_type": "stream",
          "text": [
            "YOLOv5 🚀 v6.2-169-g959a466 Python-3.7.14 torch-1.12.1+cu113 CUDA:0 (Tesla T4, 15110MiB)\n"
          ]
        },
        {
          "name": "stdout",
          "output_type": "stream",
          "text": [
            "Setup complete ✅ (2 CPUs, 12.7 GB RAM, 37.6/78.2 GB disk)\n",
            "torch 1.12.1+cu113 _CudaDeviceProperties(name='Tesla T4', major=7, minor=5, total_memory=15109MB, multi_processor_count=40)\n"
          ]
        }
      ],
      "source": [
        "import torch\n",
        "import utils\n",
        "display = utils.notebook_init()  # checks\n",
        "#파이토치 버전 확인, cuda device properties 확인\n",
        "print('torch %s %s' % (torch.__version__, torch.cuda.get_device_properties(0) if torch.cuda.is_available() else 'CPU'))"
      ]
    },
    {
      "cell_type": "code",
      "execution_count": null,
      "metadata": {
        "colab": {
          "base_uri": "https://localhost:8080/"
        },
        "id": "jnXHv23bKq82",
        "outputId": "cfe98e6f-a646-4b7c-fb19-3539f0c0e276"
      },
      "outputs": [
        {
          "name": "stdout",
          "output_type": "stream",
          "text": [
            "/content/drive/MyDrive/re_yolov5/dataset\n"
          ]
        }
      ],
      "source": [
        "%cd \"/content/drive/MyDrive/re_yolov5/dataset\"\n",
        "\n",
        "import os\n",
        "import shutil\n",
        "\n",
        "sourcepath = '/content/drive/MyDrive/coco128/images/train2017'\n",
        "sourcefiles = os.listdir(sourcepath)\n",
        "destinationpath = '/content/drive/MyDrive/re_yolov5/dataset/images'\n",
        "for file in sourcefiles:\n",
        "  shutil.move(os.path.join(sourcepath, file), os.path.join(destinationpath, file))\n",
        "  \n",
        "sourcepath = '/content/drive/MyDrive/coco128/labels/train2017'\n",
        "sourcefiles = os.listdir(sourcepath)\n",
        "destinationpath = '/content/drive/MyDrive/re_yolov5/dataset/labels'\n",
        "for file in sourcefiles:\n",
        "  shutil.move(os.path.join(sourcepath, file), os.path.join(destinationpath, file))"
      ]
    },
    {
      "cell_type": "code",
      "execution_count": null,
      "metadata": {
        "colab": {
          "base_uri": "https://localhost:8080/"
        },
        "id": "QzvPvR4ZLQrB",
        "outputId": "cc8c6b0a-29a5-46e9-85c0-75ab6d2a47d2"
      },
      "outputs": [
        {
          "name": "stdout",
          "output_type": "stream",
          "text": [
            "['/content/drive/MyDrive/re_yolov5/dataset/images/0001.jpg', '/content/drive/MyDrive/re_yolov5/dataset/images/0003.jpg', '/content/drive/MyDrive/re_yolov5/dataset/images/0004.jpg', '/content/drive/MyDrive/re_yolov5/dataset/images/0006.jpg', '/content/drive/MyDrive/re_yolov5/dataset/images/0005.jpg', '/content/drive/MyDrive/re_yolov5/dataset/images/0007.jpg', '/content/drive/MyDrive/re_yolov5/dataset/images/0008.jpg', '/content/drive/MyDrive/re_yolov5/dataset/images/0009.jpg', '/content/drive/MyDrive/re_yolov5/dataset/images/0010.jpg', '/content/drive/MyDrive/re_yolov5/dataset/images/0011.jpg', '/content/drive/MyDrive/re_yolov5/dataset/images/0012.jpg', '/content/drive/MyDrive/re_yolov5/dataset/images/0018.jpg', '/content/drive/MyDrive/re_yolov5/dataset/images/0015.jpg', '/content/drive/MyDrive/re_yolov5/dataset/images/0016.jpg', '/content/drive/MyDrive/re_yolov5/dataset/images/0013.jpg', '/content/drive/MyDrive/re_yolov5/dataset/images/0023.jpg', '/content/drive/MyDrive/re_yolov5/dataset/images/0021.jpg', '/content/drive/MyDrive/re_yolov5/dataset/images/0019.jpg', '/content/drive/MyDrive/re_yolov5/dataset/images/0025.jpg', '/content/drive/MyDrive/re_yolov5/dataset/images/0026.jpg', '/content/drive/MyDrive/re_yolov5/dataset/images/0027.jpg', '/content/drive/MyDrive/re_yolov5/dataset/images/0029.jpg', '/content/drive/MyDrive/re_yolov5/dataset/images/0033.jpg', '/content/drive/MyDrive/re_yolov5/dataset/images/0031.jpg', '/content/drive/MyDrive/re_yolov5/dataset/images/0036.jpg', '/content/drive/MyDrive/re_yolov5/dataset/images/0034.jpg', '/content/drive/MyDrive/re_yolov5/dataset/images/0038.jpg', '/content/drive/MyDrive/re_yolov5/dataset/images/0039.jpg', '/content/drive/MyDrive/re_yolov5/dataset/images/0043.jpg', '/content/drive/MyDrive/re_yolov5/dataset/images/0041.jpg', '/content/drive/MyDrive/re_yolov5/dataset/images/0045.jpg', '/content/drive/MyDrive/re_yolov5/dataset/images/0047.jpg', '/content/drive/MyDrive/re_yolov5/dataset/images/0051.jpg', '/content/drive/MyDrive/re_yolov5/dataset/images/0049.jpg', '/content/drive/MyDrive/re_yolov5/dataset/images/0055.jpg', '/content/drive/MyDrive/re_yolov5/dataset/images/0053.jpg', '/content/drive/MyDrive/re_yolov5/dataset/images/0059.jpg', '/content/drive/MyDrive/re_yolov5/dataset/images/0057.jpg', '/content/drive/MyDrive/re_yolov5/dataset/images/0061.jpg', '/content/drive/MyDrive/re_yolov5/dataset/images/0063.jpg', '/content/drive/MyDrive/re_yolov5/dataset/images/0065.jpg', '/content/drive/MyDrive/re_yolov5/dataset/images/0067.jpg', '/content/drive/MyDrive/re_yolov5/dataset/images/0069.jpg', '/content/drive/MyDrive/re_yolov5/dataset/images/0071.jpg', '/content/drive/MyDrive/re_yolov5/dataset/images/0075.jpg', '/content/drive/MyDrive/re_yolov5/dataset/images/0073.jpg', '/content/drive/MyDrive/re_yolov5/dataset/images/0079.jpg', '/content/drive/MyDrive/re_yolov5/dataset/images/0077.jpg', '/content/drive/MyDrive/re_yolov5/dataset/images/0083.jpg', '/content/drive/MyDrive/re_yolov5/dataset/images/0081.jpg', '/content/drive/MyDrive/re_yolov5/dataset/images/0085.jpg', '/content/drive/MyDrive/re_yolov5/dataset/images/0087.jpg', '/content/drive/MyDrive/re_yolov5/dataset/images/0091.jpg', '/content/drive/MyDrive/re_yolov5/dataset/images/0089.jpg', '/content/drive/MyDrive/re_yolov5/dataset/images/0093.jpg', '/content/drive/MyDrive/re_yolov5/dataset/images/0095.jpg', '/content/drive/MyDrive/re_yolov5/dataset/images/0097.jpg', '/content/drive/MyDrive/re_yolov5/dataset/images/0099.jpg', '/content/drive/MyDrive/re_yolov5/dataset/images/0101.jpg', '/content/drive/MyDrive/re_yolov5/dataset/images/0103.jpg', '/content/drive/MyDrive/re_yolov5/dataset/images/0105.jpg', '/content/drive/MyDrive/re_yolov5/dataset/images/0107.jpg', '/content/drive/MyDrive/re_yolov5/dataset/images/0109.jpg', '/content/drive/MyDrive/re_yolov5/dataset/images/0111.jpg', '/content/drive/MyDrive/re_yolov5/dataset/images/0113.jpg', '/content/drive/MyDrive/re_yolov5/dataset/images/0115.jpg', '/content/drive/MyDrive/re_yolov5/dataset/images/0117.jpg', '/content/drive/MyDrive/re_yolov5/dataset/images/0119.jpg', '/content/drive/MyDrive/re_yolov5/dataset/images/0121.jpg', '/content/drive/MyDrive/re_yolov5/dataset/images/0125.jpg', '/content/drive/MyDrive/re_yolov5/dataset/images/0123.jpg', '/content/drive/MyDrive/re_yolov5/dataset/images/0127.jpg', '/content/drive/MyDrive/re_yolov5/dataset/images/0131.jpg', '/content/drive/MyDrive/re_yolov5/dataset/images/0129.jpg', '/content/drive/MyDrive/re_yolov5/dataset/images/0133.jpg', '/content/drive/MyDrive/re_yolov5/dataset/images/0135.jpg', '/content/drive/MyDrive/re_yolov5/dataset/images/0137.jpg', '/content/drive/MyDrive/re_yolov5/dataset/images/0139.jpg', '/content/drive/MyDrive/re_yolov5/dataset/images/0141.jpg', '/content/drive/MyDrive/re_yolov5/dataset/images/0145.jpg', '/content/drive/MyDrive/re_yolov5/dataset/images/0143.jpg', '/content/drive/MyDrive/re_yolov5/dataset/images/0147.jpg', '/content/drive/MyDrive/re_yolov5/dataset/images/0149.jpg', '/content/drive/MyDrive/re_yolov5/dataset/images/0151.jpg', '/content/drive/MyDrive/re_yolov5/dataset/images/0153.jpg', '/content/drive/MyDrive/re_yolov5/dataset/images/0155.jpg', '/content/drive/MyDrive/re_yolov5/dataset/images/0157.jpg', '/content/drive/MyDrive/re_yolov5/dataset/images/0161.jpg', '/content/drive/MyDrive/re_yolov5/dataset/images/0159.jpg', '/content/drive/MyDrive/re_yolov5/dataset/images/0165.jpg', '/content/drive/MyDrive/re_yolov5/dataset/images/0163.jpg', '/content/drive/MyDrive/re_yolov5/dataset/images/0167.jpg', '/content/drive/MyDrive/re_yolov5/dataset/images/0169.jpg', '/content/drive/MyDrive/re_yolov5/dataset/images/0171.jpg', '/content/drive/MyDrive/re_yolov5/dataset/images/0173.jpg', '/content/drive/MyDrive/re_yolov5/dataset/images/0177.jpg', '/content/drive/MyDrive/re_yolov5/dataset/images/0175.jpg', '/content/drive/MyDrive/re_yolov5/dataset/images/0179.jpg', '/content/drive/MyDrive/re_yolov5/dataset/images/0181.jpg', '/content/drive/MyDrive/re_yolov5/dataset/images/0185.jpg', '/content/drive/MyDrive/re_yolov5/dataset/images/0183.jpg', '/content/drive/MyDrive/re_yolov5/dataset/images/0189.jpg', '/content/drive/MyDrive/re_yolov5/dataset/images/0187.jpg', '/content/drive/MyDrive/re_yolov5/dataset/images/0193.jpg', '/content/drive/MyDrive/re_yolov5/dataset/images/0191.jpg', '/content/drive/MyDrive/re_yolov5/dataset/images/0195.jpg', '/content/drive/MyDrive/re_yolov5/dataset/images/0197.jpg', '/content/drive/MyDrive/re_yolov5/dataset/images/0199.jpg', '/content/drive/MyDrive/re_yolov5/dataset/images/0201.jpg', '/content/drive/MyDrive/re_yolov5/dataset/images/0203.jpg', '/content/drive/MyDrive/re_yolov5/dataset/images/0205.jpg', '/content/drive/MyDrive/re_yolov5/dataset/images/0209.jpg', '/content/drive/MyDrive/re_yolov5/dataset/images/0207.jpg', '/content/drive/MyDrive/re_yolov5/dataset/images/0213.jpg', '/content/drive/MyDrive/re_yolov5/dataset/images/0211.jpg', '/content/drive/MyDrive/re_yolov5/dataset/images/0215.jpg', '/content/drive/MyDrive/re_yolov5/dataset/images/0217.jpg', '/content/drive/MyDrive/re_yolov5/dataset/images/0219.jpg', '/content/drive/MyDrive/re_yolov5/dataset/images/0221.jpg', '/content/drive/MyDrive/re_yolov5/dataset/images/0223.jpg', '/content/drive/MyDrive/re_yolov5/dataset/images/0225.jpg', '/content/drive/MyDrive/re_yolov5/dataset/images/0227.jpg', '/content/drive/MyDrive/re_yolov5/dataset/images/0229.jpg', '/content/drive/MyDrive/re_yolov5/dataset/images/0231.jpg', '/content/drive/MyDrive/re_yolov5/dataset/images/0233.jpg', '/content/drive/MyDrive/re_yolov5/dataset/images/0237.jpg', '/content/drive/MyDrive/re_yolov5/dataset/images/0235.jpg', '/content/drive/MyDrive/re_yolov5/dataset/images/0239.jpg', '/content/drive/MyDrive/re_yolov5/dataset/images/0241.jpg', '/content/drive/MyDrive/re_yolov5/dataset/images/0243.jpg', '/content/drive/MyDrive/re_yolov5/dataset/images/0245.jpg', '/content/drive/MyDrive/re_yolov5/dataset/images/0247.jpg', '/content/drive/MyDrive/re_yolov5/dataset/images/0249.jpg', '/content/drive/MyDrive/re_yolov5/dataset/images/0251.jpg', '/content/drive/MyDrive/re_yolov5/dataset/images/0253.jpg', '/content/drive/MyDrive/re_yolov5/dataset/images/0257.jpg', '/content/drive/MyDrive/re_yolov5/dataset/images/0255.jpg', '/content/drive/MyDrive/re_yolov5/dataset/images/0259.jpg', '/content/drive/MyDrive/re_yolov5/dataset/images/0261.jpg', '/content/drive/MyDrive/re_yolov5/dataset/images/0265.jpg', '/content/drive/MyDrive/re_yolov5/dataset/images/0263.jpg', '/content/drive/MyDrive/re_yolov5/dataset/images/0267.jpg', '/content/drive/MyDrive/re_yolov5/dataset/images/0269.jpg', '/content/drive/MyDrive/re_yolov5/dataset/images/0271.jpg', '/content/drive/MyDrive/re_yolov5/dataset/images/0273.jpg', '/content/drive/MyDrive/re_yolov5/dataset/images/0277.jpg', '/content/drive/MyDrive/re_yolov5/dataset/images/0275.jpg', '/content/drive/MyDrive/re_yolov5/dataset/images/0281.jpg', '/content/drive/MyDrive/re_yolov5/dataset/images/0279.jpg', '/content/drive/MyDrive/re_yolov5/dataset/images/0285.jpg', '/content/drive/MyDrive/re_yolov5/dataset/images/0283.jpg', '/content/drive/MyDrive/re_yolov5/dataset/images/0289.jpg', '/content/drive/MyDrive/re_yolov5/dataset/images/0287.jpg', '/content/drive/MyDrive/re_yolov5/dataset/images/0293.jpg', '/content/drive/MyDrive/re_yolov5/dataset/images/0291.jpg', '/content/drive/MyDrive/re_yolov5/dataset/images/0295.jpg', '/content/drive/MyDrive/re_yolov5/dataset/images/0299.jpg', '/content/drive/MyDrive/re_yolov5/dataset/images/0297.jpg', '/content/drive/MyDrive/re_yolov5/dataset/images/0301.jpg', '/content/drive/MyDrive/re_yolov5/dataset/images/0303.jpg', '/content/drive/MyDrive/re_yolov5/dataset/images/0307.jpg', '/content/drive/MyDrive/re_yolov5/dataset/images/0305.jpg', '/content/drive/MyDrive/re_yolov5/dataset/images/0309.jpg', '/content/drive/MyDrive/re_yolov5/dataset/images/0311.jpg', '/content/drive/MyDrive/re_yolov5/dataset/images/0313.jpg', '/content/drive/MyDrive/re_yolov5/dataset/images/0315.jpg', '/content/drive/MyDrive/re_yolov5/dataset/images/0317.jpg', '/content/drive/MyDrive/re_yolov5/dataset/images/0321.jpg', '/content/drive/MyDrive/re_yolov5/dataset/images/0319.jpg', '/content/drive/MyDrive/re_yolov5/dataset/images/0323.jpg', '/content/drive/MyDrive/re_yolov5/dataset/images/0325.jpg', '/content/drive/MyDrive/re_yolov5/dataset/images/0327.jpg', '/content/drive/MyDrive/re_yolov5/dataset/images/0329.jpg', '/content/drive/MyDrive/re_yolov5/dataset/images/0333.jpg', '/content/drive/MyDrive/re_yolov5/dataset/images/0331.jpg', '/content/drive/MyDrive/re_yolov5/dataset/images/0335.jpg', '/content/drive/MyDrive/re_yolov5/dataset/images/0337.jpg', '/content/drive/MyDrive/re_yolov5/dataset/images/0339.jpg', '/content/drive/MyDrive/re_yolov5/dataset/images/0341.jpg', '/content/drive/MyDrive/re_yolov5/dataset/images/0343.jpg', '/content/drive/MyDrive/re_yolov5/dataset/images/0345.jpg', '/content/drive/MyDrive/re_yolov5/dataset/images/0347.jpg', '/content/drive/MyDrive/re_yolov5/dataset/images/0349.jpg', '/content/drive/MyDrive/re_yolov5/dataset/images/0351.jpg', '/content/drive/MyDrive/re_yolov5/dataset/images/0353.jpg', '/content/drive/MyDrive/re_yolov5/dataset/images/0355.jpg', '/content/drive/MyDrive/re_yolov5/dataset/images/0357.jpg', '/content/drive/MyDrive/re_yolov5/dataset/images/0361.jpg', '/content/drive/MyDrive/re_yolov5/dataset/images/0359.jpg', '/content/drive/MyDrive/re_yolov5/dataset/images/0365.jpg', '/content/drive/MyDrive/re_yolov5/dataset/images/0363.jpg', '/content/drive/MyDrive/re_yolov5/dataset/images/0367.jpg', '/content/drive/MyDrive/re_yolov5/dataset/images/0371.jpg', '/content/drive/MyDrive/re_yolov5/dataset/images/0369.jpg', '/content/drive/MyDrive/re_yolov5/dataset/images/0375.jpg', '/content/drive/MyDrive/re_yolov5/dataset/images/0373.jpg', '/content/drive/MyDrive/re_yolov5/dataset/images/0377.jpg', '/content/drive/MyDrive/re_yolov5/dataset/images/0379.jpg', '/content/drive/MyDrive/re_yolov5/dataset/images/0381.jpg', '/content/drive/MyDrive/re_yolov5/dataset/images/0383.jpg', '/content/drive/MyDrive/re_yolov5/dataset/images/0385.jpg', '/content/drive/MyDrive/re_yolov5/dataset/images/0387.jpg', '/content/drive/MyDrive/re_yolov5/dataset/images/0389.jpg', '/content/drive/MyDrive/re_yolov5/dataset/images/0391.jpg', '/content/drive/MyDrive/re_yolov5/dataset/images/0395.jpg', '/content/drive/MyDrive/re_yolov5/dataset/images/0393.jpg', '/content/drive/MyDrive/re_yolov5/dataset/images/0399.jpg', '/content/drive/MyDrive/re_yolov5/dataset/images/0397.jpg', '/content/drive/MyDrive/re_yolov5/dataset/images/0401.jpg', '/content/drive/MyDrive/re_yolov5/dataset/images/0403.jpg', '/content/drive/MyDrive/re_yolov5/dataset/images/0405.jpg', '/content/drive/MyDrive/re_yolov5/dataset/images/0407.jpg', '/content/drive/MyDrive/re_yolov5/dataset/images/0409.jpg', '/content/drive/MyDrive/re_yolov5/dataset/images/0411.jpg', '/content/drive/MyDrive/re_yolov5/dataset/images/0415.jpg', '/content/drive/MyDrive/re_yolov5/dataset/images/0413.jpg', '/content/drive/MyDrive/re_yolov5/dataset/images/0419.jpg', '/content/drive/MyDrive/re_yolov5/dataset/images/0417.jpg', '/content/drive/MyDrive/re_yolov5/dataset/images/0421.jpg', '/content/drive/MyDrive/re_yolov5/dataset/images/0423.jpg', '/content/drive/MyDrive/re_yolov5/dataset/images/0425.jpg', '/content/drive/MyDrive/re_yolov5/dataset/images/0427.jpg', '/content/drive/MyDrive/re_yolov5/dataset/images/0429.jpg', '/content/drive/MyDrive/re_yolov5/dataset/images/0431.jpg', '/content/drive/MyDrive/re_yolov5/dataset/images/0435.jpg', '/content/drive/MyDrive/re_yolov5/dataset/images/0433.jpg', '/content/drive/MyDrive/re_yolov5/dataset/images/0437.jpg', '/content/drive/MyDrive/re_yolov5/dataset/images/0439.jpg', '/content/drive/MyDrive/re_yolov5/dataset/images/0443.jpg', '/content/drive/MyDrive/re_yolov5/dataset/images/0441.jpg', '/content/drive/MyDrive/re_yolov5/dataset/images/0447.jpg', '/content/drive/MyDrive/re_yolov5/dataset/images/0445.jpg', '/content/drive/MyDrive/re_yolov5/dataset/images/0449.jpg', '/content/drive/MyDrive/re_yolov5/dataset/images/0002.jpg', '/content/drive/MyDrive/re_yolov5/dataset/images/0014.jpg', '/content/drive/MyDrive/re_yolov5/dataset/images/0017.jpg', '/content/drive/MyDrive/re_yolov5/dataset/images/0020.jpg', '/content/drive/MyDrive/re_yolov5/dataset/images/0024.jpg', '/content/drive/MyDrive/re_yolov5/dataset/images/0022.jpg', '/content/drive/MyDrive/re_yolov5/dataset/images/0030.jpg', '/content/drive/MyDrive/re_yolov5/dataset/images/0028.jpg', '/content/drive/MyDrive/re_yolov5/dataset/images/0032.jpg', '/content/drive/MyDrive/re_yolov5/dataset/images/0037.jpg', '/content/drive/MyDrive/re_yolov5/dataset/images/0035.jpg', '/content/drive/MyDrive/re_yolov5/dataset/images/0040.jpg', '/content/drive/MyDrive/re_yolov5/dataset/images/0044.jpg', '/content/drive/MyDrive/re_yolov5/dataset/images/0042.jpg', '/content/drive/MyDrive/re_yolov5/dataset/images/0046.jpg', '/content/drive/MyDrive/re_yolov5/dataset/images/0048.jpg', '/content/drive/MyDrive/re_yolov5/dataset/images/0050.jpg', '/content/drive/MyDrive/re_yolov5/dataset/images/0052.jpg', '/content/drive/MyDrive/re_yolov5/dataset/images/0056.jpg', '/content/drive/MyDrive/re_yolov5/dataset/images/0054.jpg', '/content/drive/MyDrive/re_yolov5/dataset/images/0058.jpg', '/content/drive/MyDrive/re_yolov5/dataset/images/0060.jpg', '/content/drive/MyDrive/re_yolov5/dataset/images/0062.jpg', '/content/drive/MyDrive/re_yolov5/dataset/images/0064.jpg', '/content/drive/MyDrive/re_yolov5/dataset/images/0068.jpg', '/content/drive/MyDrive/re_yolov5/dataset/images/0066.jpg', '/content/drive/MyDrive/re_yolov5/dataset/images/0072.jpg', '/content/drive/MyDrive/re_yolov5/dataset/images/0070.jpg', '/content/drive/MyDrive/re_yolov5/dataset/images/0076.jpg', '/content/drive/MyDrive/re_yolov5/dataset/images/0074.jpg', '/content/drive/MyDrive/re_yolov5/dataset/images/0078.jpg', '/content/drive/MyDrive/re_yolov5/dataset/images/0080.jpg', '/content/drive/MyDrive/re_yolov5/dataset/images/0082.jpg', '/content/drive/MyDrive/re_yolov5/dataset/images/0084.jpg', '/content/drive/MyDrive/re_yolov5/dataset/images/0088.jpg', '/content/drive/MyDrive/re_yolov5/dataset/images/0086.jpg', '/content/drive/MyDrive/re_yolov5/dataset/images/0092.jpg', '/content/drive/MyDrive/re_yolov5/dataset/images/0090.jpg', '/content/drive/MyDrive/re_yolov5/dataset/images/0094.jpg', '/content/drive/MyDrive/re_yolov5/dataset/images/0096.jpg', '/content/drive/MyDrive/re_yolov5/dataset/images/0098.jpg', '/content/drive/MyDrive/re_yolov5/dataset/images/0100.jpg', '/content/drive/MyDrive/re_yolov5/dataset/images/0104.jpg', '/content/drive/MyDrive/re_yolov5/dataset/images/0102.jpg', '/content/drive/MyDrive/re_yolov5/dataset/images/0108.jpg', '/content/drive/MyDrive/re_yolov5/dataset/images/0106.jpg', '/content/drive/MyDrive/re_yolov5/dataset/images/0110.jpg', '/content/drive/MyDrive/re_yolov5/dataset/images/0112.jpg', '/content/drive/MyDrive/re_yolov5/dataset/images/0116.jpg', '/content/drive/MyDrive/re_yolov5/dataset/images/0114.jpg', '/content/drive/MyDrive/re_yolov5/dataset/images/0120.jpg', '/content/drive/MyDrive/re_yolov5/dataset/images/0118.jpg', '/content/drive/MyDrive/re_yolov5/dataset/images/0122.jpg', '/content/drive/MyDrive/re_yolov5/dataset/images/0124.jpg', '/content/drive/MyDrive/re_yolov5/dataset/images/0128.jpg', '/content/drive/MyDrive/re_yolov5/dataset/images/0126.jpg', '/content/drive/MyDrive/re_yolov5/dataset/images/0132.jpg', '/content/drive/MyDrive/re_yolov5/dataset/images/0130.jpg', '/content/drive/MyDrive/re_yolov5/dataset/images/0136.jpg', '/content/drive/MyDrive/re_yolov5/dataset/images/0134.jpg', '/content/drive/MyDrive/re_yolov5/dataset/images/0140.jpg', '/content/drive/MyDrive/re_yolov5/dataset/images/0138.jpg', '/content/drive/MyDrive/re_yolov5/dataset/images/0144.jpg', '/content/drive/MyDrive/re_yolov5/dataset/images/0142.jpg', '/content/drive/MyDrive/re_yolov5/dataset/images/0146.jpg', '/content/drive/MyDrive/re_yolov5/dataset/images/0148.jpg', '/content/drive/MyDrive/re_yolov5/dataset/images/0152.jpg', '/content/drive/MyDrive/re_yolov5/dataset/images/0150.jpg', '/content/drive/MyDrive/re_yolov5/dataset/images/0156.jpg', '/content/drive/MyDrive/re_yolov5/dataset/images/0154.jpg', '/content/drive/MyDrive/re_yolov5/dataset/images/0158.jpg', '/content/drive/MyDrive/re_yolov5/dataset/images/0160.jpg', '/content/drive/MyDrive/re_yolov5/dataset/images/0164.jpg', '/content/drive/MyDrive/re_yolov5/dataset/images/0162.jpg', '/content/drive/MyDrive/re_yolov5/dataset/images/0166.jpg', '/content/drive/MyDrive/re_yolov5/dataset/images/0168.jpg', '/content/drive/MyDrive/re_yolov5/dataset/images/0172.jpg', '/content/drive/MyDrive/re_yolov5/dataset/images/0170.jpg', '/content/drive/MyDrive/re_yolov5/dataset/images/0174.jpg', '/content/drive/MyDrive/re_yolov5/dataset/images/0176.jpg', '/content/drive/MyDrive/re_yolov5/dataset/images/0178.jpg', '/content/drive/MyDrive/re_yolov5/dataset/images/0180.jpg', '/content/drive/MyDrive/re_yolov5/dataset/images/0184.jpg', '/content/drive/MyDrive/re_yolov5/dataset/images/0182.jpg', '/content/drive/MyDrive/re_yolov5/dataset/images/0188.jpg', '/content/drive/MyDrive/re_yolov5/dataset/images/0186.jpg', '/content/drive/MyDrive/re_yolov5/dataset/images/0190.jpg', '/content/drive/MyDrive/re_yolov5/dataset/images/0192.jpg', '/content/drive/MyDrive/re_yolov5/dataset/images/0194.jpg', '/content/drive/MyDrive/re_yolov5/dataset/images/0196.jpg', '/content/drive/MyDrive/re_yolov5/dataset/images/0198.jpg', '/content/drive/MyDrive/re_yolov5/dataset/images/0200.jpg', '/content/drive/MyDrive/re_yolov5/dataset/images/0202.jpg', '/content/drive/MyDrive/re_yolov5/dataset/images/0204.jpg', '/content/drive/MyDrive/re_yolov5/dataset/images/0208.jpg', '/content/drive/MyDrive/re_yolov5/dataset/images/0206.jpg', '/content/drive/MyDrive/re_yolov5/dataset/images/0212.jpg', '/content/drive/MyDrive/re_yolov5/dataset/images/0210.jpg', '/content/drive/MyDrive/re_yolov5/dataset/images/0216.jpg', '/content/drive/MyDrive/re_yolov5/dataset/images/0214.jpg', '/content/drive/MyDrive/re_yolov5/dataset/images/0218.jpg', '/content/drive/MyDrive/re_yolov5/dataset/images/0220.jpg', '/content/drive/MyDrive/re_yolov5/dataset/images/0224.jpg', '/content/drive/MyDrive/re_yolov5/dataset/images/0222.jpg', '/content/drive/MyDrive/re_yolov5/dataset/images/0226.jpg', '/content/drive/MyDrive/re_yolov5/dataset/images/0228.jpg', '/content/drive/MyDrive/re_yolov5/dataset/images/0232.jpg', '/content/drive/MyDrive/re_yolov5/dataset/images/0230.jpg', '/content/drive/MyDrive/re_yolov5/dataset/images/0236.jpg', '/content/drive/MyDrive/re_yolov5/dataset/images/0234.jpg', '/content/drive/MyDrive/re_yolov5/dataset/images/0238.jpg', '/content/drive/MyDrive/re_yolov5/dataset/images/0240.jpg', '/content/drive/MyDrive/re_yolov5/dataset/images/0244.jpg', '/content/drive/MyDrive/re_yolov5/dataset/images/0242.jpg', '/content/drive/MyDrive/re_yolov5/dataset/images/0248.jpg', '/content/drive/MyDrive/re_yolov5/dataset/images/0246.jpg', '/content/drive/MyDrive/re_yolov5/dataset/images/0250.jpg', '/content/drive/MyDrive/re_yolov5/dataset/images/0252.jpg', '/content/drive/MyDrive/re_yolov5/dataset/images/0254.jpg', '/content/drive/MyDrive/re_yolov5/dataset/images/0256.jpg', '/content/drive/MyDrive/re_yolov5/dataset/images/0260.jpg', '/content/drive/MyDrive/re_yolov5/dataset/images/0258.jpg', '/content/drive/MyDrive/re_yolov5/dataset/images/0264.jpg', '/content/drive/MyDrive/re_yolov5/dataset/images/0262.jpg', '/content/drive/MyDrive/re_yolov5/dataset/images/0268.jpg', '/content/drive/MyDrive/re_yolov5/dataset/images/0266.jpg', '/content/drive/MyDrive/re_yolov5/dataset/images/0270.jpg', '/content/drive/MyDrive/re_yolov5/dataset/images/0272.jpg', '/content/drive/MyDrive/re_yolov5/dataset/images/0276.jpg', '/content/drive/MyDrive/re_yolov5/dataset/images/0274.jpg', '/content/drive/MyDrive/re_yolov5/dataset/images/0280.jpg', '/content/drive/MyDrive/re_yolov5/dataset/images/0278.jpg', '/content/drive/MyDrive/re_yolov5/dataset/images/0284.jpg', '/content/drive/MyDrive/re_yolov5/dataset/images/0282.jpg', '/content/drive/MyDrive/re_yolov5/dataset/images/0286.jpg', '/content/drive/MyDrive/re_yolov5/dataset/images/0288.jpg', '/content/drive/MyDrive/re_yolov5/dataset/images/0292.jpg', '/content/drive/MyDrive/re_yolov5/dataset/images/0290.jpg', '/content/drive/MyDrive/re_yolov5/dataset/images/0294.jpg', '/content/drive/MyDrive/re_yolov5/dataset/images/0296.jpg', '/content/drive/MyDrive/re_yolov5/dataset/images/0298.jpg', '/content/drive/MyDrive/re_yolov5/dataset/images/0300.jpg', '/content/drive/MyDrive/re_yolov5/dataset/images/0304.jpg', '/content/drive/MyDrive/re_yolov5/dataset/images/0302.jpg', '/content/drive/MyDrive/re_yolov5/dataset/images/0306.jpg', '/content/drive/MyDrive/re_yolov5/dataset/images/0308.jpg', '/content/drive/MyDrive/re_yolov5/dataset/images/0312.jpg', '/content/drive/MyDrive/re_yolov5/dataset/images/0310.jpg', '/content/drive/MyDrive/re_yolov5/dataset/images/0316.jpg', '/content/drive/MyDrive/re_yolov5/dataset/images/0314.jpg', '/content/drive/MyDrive/re_yolov5/dataset/images/0320.jpg', '/content/drive/MyDrive/re_yolov5/dataset/images/0318.jpg', '/content/drive/MyDrive/re_yolov5/dataset/images/0322.jpg', '/content/drive/MyDrive/re_yolov5/dataset/images/0324.jpg', '/content/drive/MyDrive/re_yolov5/dataset/images/0326.jpg', '/content/drive/MyDrive/re_yolov5/dataset/images/0328.jpg', '/content/drive/MyDrive/re_yolov5/dataset/images/0330.jpg', '/content/drive/MyDrive/re_yolov5/dataset/images/0332.jpg', '/content/drive/MyDrive/re_yolov5/dataset/images/0336.jpg', '/content/drive/MyDrive/re_yolov5/dataset/images/0334.jpg', '/content/drive/MyDrive/re_yolov5/dataset/images/0338.jpg', '/content/drive/MyDrive/re_yolov5/dataset/images/0340.jpg', '/content/drive/MyDrive/re_yolov5/dataset/images/0344.jpg', '/content/drive/MyDrive/re_yolov5/dataset/images/0342.jpg', '/content/drive/MyDrive/re_yolov5/dataset/images/0346.jpg', '/content/drive/MyDrive/re_yolov5/dataset/images/0348.jpg', '/content/drive/MyDrive/re_yolov5/dataset/images/0352.jpg', '/content/drive/MyDrive/re_yolov5/dataset/images/0350.jpg', '/content/drive/MyDrive/re_yolov5/dataset/images/0356.jpg', '/content/drive/MyDrive/re_yolov5/dataset/images/0354.jpg', '/content/drive/MyDrive/re_yolov5/dataset/images/0360.jpg', '/content/drive/MyDrive/re_yolov5/dataset/images/0358.jpg', '/content/drive/MyDrive/re_yolov5/dataset/images/0362.jpg', '/content/drive/MyDrive/re_yolov5/dataset/images/0364.jpg', '/content/drive/MyDrive/re_yolov5/dataset/images/0366.jpg', '/content/drive/MyDrive/re_yolov5/dataset/images/0368.jpg', '/content/drive/MyDrive/re_yolov5/dataset/images/0370.jpg', '/content/drive/MyDrive/re_yolov5/dataset/images/0372.jpg', '/content/drive/MyDrive/re_yolov5/dataset/images/0374.jpg', '/content/drive/MyDrive/re_yolov5/dataset/images/0376.jpg', '/content/drive/MyDrive/re_yolov5/dataset/images/0380.jpg', '/content/drive/MyDrive/re_yolov5/dataset/images/0378.jpg', '/content/drive/MyDrive/re_yolov5/dataset/images/0382.jpg', '/content/drive/MyDrive/re_yolov5/dataset/images/0384.jpg', '/content/drive/MyDrive/re_yolov5/dataset/images/0386.jpg', '/content/drive/MyDrive/re_yolov5/dataset/images/0388.jpg', '/content/drive/MyDrive/re_yolov5/dataset/images/0390.jpg', '/content/drive/MyDrive/re_yolov5/dataset/images/0392.jpg', '/content/drive/MyDrive/re_yolov5/dataset/images/0394.jpg', '/content/drive/MyDrive/re_yolov5/dataset/images/0396.jpg', '/content/drive/MyDrive/re_yolov5/dataset/images/0398.jpg', '/content/drive/MyDrive/re_yolov5/dataset/images/0400.jpg', '/content/drive/MyDrive/re_yolov5/dataset/images/0402.jpg', '/content/drive/MyDrive/re_yolov5/dataset/images/0404.jpg', '/content/drive/MyDrive/re_yolov5/dataset/images/0406.jpg', '/content/drive/MyDrive/re_yolov5/dataset/images/0408.jpg', '/content/drive/MyDrive/re_yolov5/dataset/images/0410.jpg', '/content/drive/MyDrive/re_yolov5/dataset/images/0412.jpg', '/content/drive/MyDrive/re_yolov5/dataset/images/0414.jpg', '/content/drive/MyDrive/re_yolov5/dataset/images/0416.jpg', '/content/drive/MyDrive/re_yolov5/dataset/images/0420.jpg', '/content/drive/MyDrive/re_yolov5/dataset/images/0418.jpg', '/content/drive/MyDrive/re_yolov5/dataset/images/0422.jpg', '/content/drive/MyDrive/re_yolov5/dataset/images/0424.jpg', '/content/drive/MyDrive/re_yolov5/dataset/images/0428.jpg', '/content/drive/MyDrive/re_yolov5/dataset/images/0426.jpg', '/content/drive/MyDrive/re_yolov5/dataset/images/0432.jpg', '/content/drive/MyDrive/re_yolov5/dataset/images/0430.jpg', '/content/drive/MyDrive/re_yolov5/dataset/images/0436.jpg', '/content/drive/MyDrive/re_yolov5/dataset/images/0434.jpg', '/content/drive/MyDrive/re_yolov5/dataset/images/0438.jpg', '/content/drive/MyDrive/re_yolov5/dataset/images/0440.jpg', '/content/drive/MyDrive/re_yolov5/dataset/images/0442.jpg', '/content/drive/MyDrive/re_yolov5/dataset/images/0444.jpg', '/content/drive/MyDrive/re_yolov5/dataset/images/0448.jpg', '/content/drive/MyDrive/re_yolov5/dataset/images/0446.jpg']\n"
          ]
        }
      ],
      "source": [
        "from glob import glob\n",
        "\n",
        "# 이미지들의 주소 리스트로 만들어줌\n",
        "train_img_list = glob('/content/drive/MyDrive/re_yolov5/dataset/images/*.jpg')\n",
        "print(train_img_list)\n",
        "\n",
        "# 리스트를 txt파일로 생성\n",
        "with open('/content/drive/MyDrive/re_yolov5/dataset/train.txt', 'w') as f:\n",
        "\tf.write('\\n'.join(train_img_list) + '\\n')"
      ]
    },
    {
      "cell_type": "code",
      "execution_count": null,
      "metadata": {
        "colab": {
          "base_uri": "https://localhost:8080/"
        },
        "id": "rDvozMqQsFLP",
        "outputId": "4779ab70-3867-4119-c902-0a8edc6350ec"
      },
      "outputs": [
        {
          "name": "stdout",
          "output_type": "stream",
          "text": [
            "/content/drive/MyDrive/re_yolov5/yolov5\n",
            "\u001b[34m\u001b[1mtrain: \u001b[0mweights=yolov5m.pt, cfg=./models/yolov5m.yaml, data=dataset.yaml, hyp=data/hyps/hyp.scratch-low.yaml, epochs=50, batch_size=32, imgsz=224, rect=False, resume=False, nosave=False, noval=False, noautoanchor=False, noplots=False, evolve=None, bucket=, cache=None, image_weights=False, device=, multi_scale=False, single_cls=False, optimizer=SGD, sync_bn=False, workers=8, project=runs/train, name=yolov5_re_m, exist_ok=False, quad=False, cos_lr=False, label_smoothing=0.0, patience=100, freeze=[0], save_period=-1, seed=0, local_rank=-1, entity=None, upload_dataset=False, bbox_interval=-1, artifact_alias=latest\n",
            "\u001b[34m\u001b[1mgithub: \u001b[0mup to date with https://github.com/ultralytics/yolov5 ✅\n",
            "\u001b[31m\u001b[1mrequirements:\u001b[0m YOLOv5 requirements \"ipython\" \"thop>=0.1.1\" not found, attempting AutoUpdate...\n",
            "Looking in indexes: https://pypi.org/simple, https://us-python.pkg.dev/colab-wheels/public/simple/\n",
            "Requirement already satisfied: ipython in /usr/local/lib/python3.7/dist-packages (7.9.0)\n",
            "Collecting thop>=0.1.1\n",
            "  Downloading thop-0.1.1.post2209072238-py3-none-any.whl (15 kB)\n",
            "Requirement already satisfied: torch in /usr/local/lib/python3.7/dist-packages (from thop>=0.1.1) (1.12.1+cu113)\n",
            "Requirement already satisfied: pexpect in /usr/local/lib/python3.7/dist-packages (from ipython) (4.8.0)\n",
            "Requirement already satisfied: prompt-toolkit<2.1.0,>=2.0.0 in /usr/local/lib/python3.7/dist-packages (from ipython) (2.0.10)\n",
            "Requirement already satisfied: pickleshare in /usr/local/lib/python3.7/dist-packages (from ipython) (0.7.5)\n",
            "Requirement already satisfied: backcall in /usr/local/lib/python3.7/dist-packages (from ipython) (0.2.0)\n",
            "Requirement already satisfied: traitlets>=4.2 in /usr/local/lib/python3.7/dist-packages (from ipython) (5.1.1)\n",
            "Requirement already satisfied: pygments in /usr/local/lib/python3.7/dist-packages (from ipython) (2.6.1)\n",
            "Requirement already satisfied: decorator in /usr/local/lib/python3.7/dist-packages (from ipython) (4.4.2)\n",
            "Requirement already satisfied: setuptools>=18.5 in /usr/local/lib/python3.7/dist-packages (from ipython) (57.4.0)\n",
            "Collecting jedi>=0.10\n",
            "  Downloading jedi-0.18.1-py2.py3-none-any.whl (1.6 MB)\n",
            "Requirement already satisfied: parso<0.9.0,>=0.8.0 in /usr/local/lib/python3.7/dist-packages (from jedi>=0.10->ipython) (0.8.3)\n",
            "Requirement already satisfied: wcwidth in /usr/local/lib/python3.7/dist-packages (from prompt-toolkit<2.1.0,>=2.0.0->ipython) (0.2.5)\n",
            "Requirement already satisfied: six>=1.9.0 in /usr/local/lib/python3.7/dist-packages (from prompt-toolkit<2.1.0,>=2.0.0->ipython) (1.15.0)\n",
            "Requirement already satisfied: ptyprocess>=0.5 in /usr/local/lib/python3.7/dist-packages (from pexpect->ipython) (0.7.0)\n",
            "Requirement already satisfied: typing-extensions in /usr/local/lib/python3.7/dist-packages (from torch->thop>=0.1.1) (4.1.1)\n",
            "Installing collected packages: jedi, thop\n",
            "Successfully installed jedi-0.18.1 thop-0.1.1.post2209072238\n",
            "\n",
            "\u001b[31m\u001b[1mrequirements:\u001b[0m 2 packages updated per /content/drive/MyDrive/re_yolov5/yolov5/requirements.txt\n",
            "\u001b[31m\u001b[1mrequirements:\u001b[0m ⚠️ \u001b[1mRestart runtime or rerun command for updates to take effect\u001b[0m\n",
            "\n",
            "YOLOv5 🚀 v6.2-169-g959a466 Python-3.7.14 torch-1.12.1+cu113 CUDA:0 (Tesla T4, 15110MiB)\n",
            "\n",
            "\u001b[34m\u001b[1mhyperparameters: \u001b[0mlr0=0.01, lrf=0.01, momentum=0.937, weight_decay=0.0005, warmup_epochs=3.0, warmup_momentum=0.8, warmup_bias_lr=0.1, box=0.05, cls=0.5, cls_pw=1.0, obj=1.0, obj_pw=1.0, iou_t=0.2, anchor_t=4.0, fl_gamma=0.0, hsv_h=0.015, hsv_s=0.7, hsv_v=0.4, degrees=0.0, translate=0.1, scale=0.5, shear=0.0, perspective=0.0, flipud=0.0, fliplr=0.5, mosaic=1.0, mixup=0.0, copy_paste=0.0\n",
            "\u001b[34m\u001b[1mWeights & Biases: \u001b[0mrun 'pip install wandb' to automatically track and visualize YOLOv5 🚀 runs in Weights & Biases\n",
            "\u001b[34m\u001b[1mClearML: \u001b[0mrun 'pip install clearml' to automatically track, visualize and remotely train YOLOv5 🚀 in ClearML\n",
            "\u001b[34m\u001b[1mComet: \u001b[0mrun 'pip install comet_ml' to automatically track and visualize YOLOv5 🚀 runs in Comet\n",
            "\u001b[34m\u001b[1mTensorBoard: \u001b[0mStart with 'tensorboard --logdir runs/train', view at http://localhost:6006/\n",
            "Downloading https://ultralytics.com/assets/Arial.ttf to /root/.config/Ultralytics/Arial.ttf...\n",
            "100% 755k/755k [00:00<00:00, 28.8MB/s]\n",
            "Downloading https://github.com/ultralytics/yolov5/releases/download/v6.2/yolov5m.pt to yolov5m.pt...\n",
            "100% 40.8M/40.8M [00:01<00:00, 38.1MB/s]\n",
            "\n",
            "\n",
            "                 from  n    params  module                                  arguments                     \n",
            "  0                -1  1      5280  models.common.Conv                      [3, 48, 6, 2, 2]              \n",
            "  1                -1  1     41664  models.common.Conv                      [48, 96, 3, 2]                \n",
            "  2                -1  2     65280  models.common.C3                        [96, 96, 2]                   \n",
            "  3                -1  1    166272  models.common.Conv                      [96, 192, 3, 2]               \n",
            "  4                -1  4    444672  models.common.C3                        [192, 192, 4]                 \n",
            "  5                -1  1    664320  models.common.Conv                      [192, 384, 3, 2]              \n",
            "  6                -1  6   2512896  models.common.C3                        [384, 384, 6]                 \n",
            "  7                -1  1   2655744  models.common.Conv                      [384, 768, 3, 2]              \n",
            "  8                -1  2   4134912  models.common.C3                        [768, 768, 2]                 \n",
            "  9                -1  1   1476864  models.common.SPPF                      [768, 768, 5]                 \n",
            " 10                -1  1    295680  models.common.Conv                      [768, 384, 1, 1]              \n",
            " 11                -1  1         0  torch.nn.modules.upsampling.Upsample    [None, 2, 'nearest']          \n",
            " 12           [-1, 6]  1         0  models.common.Concat                    [1]                           \n",
            " 13                -1  2   1182720  models.common.C3                        [768, 384, 2, False]          \n",
            " 14                -1  1     74112  models.common.Conv                      [384, 192, 1, 1]              \n",
            " 15                -1  1         0  torch.nn.modules.upsampling.Upsample    [None, 2, 'nearest']          \n",
            " 16           [-1, 4]  1         0  models.common.Concat                    [1]                           \n",
            " 17                -1  2    296448  models.common.C3                        [384, 192, 2, False]          \n",
            " 18                -1  1    332160  models.common.Conv                      [192, 192, 3, 2]              \n",
            " 19          [-1, 14]  1         0  models.common.Concat                    [1]                           \n",
            " 20                -1  2   1035264  models.common.C3                        [384, 384, 2, False]          \n",
            " 21                -1  1   1327872  models.common.Conv                      [384, 384, 3, 2]              \n",
            " 22          [-1, 10]  1         0  models.common.Concat                    [1]                           \n",
            " 23                -1  2   4134912  models.common.C3                        [768, 768, 2, False]          \n",
            " 24      [17, 20, 23]  1     32328  models.yolo.Detect                      [3, [[10, 13, 16, 30, 33, 23], [30, 61, 62, 45, 59, 119], [116, 90, 156, 198, 373, 326]], [192, 384, 768]]\n",
            "YOLOv5m summary: 291 layers, 20879400 parameters, 20879400 gradients\n",
            "\n",
            "Transferred 474/481 items from yolov5m.pt\n",
            "\u001b[34m\u001b[1mAMP: \u001b[0mchecks passed ✅\n",
            "\u001b[34m\u001b[1moptimizer:\u001b[0m SGD(lr=0.01) with parameter groups 79 weight(decay=0.0), 82 weight(decay=0.0005), 82 bias\n",
            "\u001b[34m\u001b[1malbumentations: \u001b[0mBlur(p=0.01, blur_limit=(3, 7)), MedianBlur(p=0.01, blur_limit=(3, 7)), ToGray(p=0.01), CLAHE(p=0.01, clip_limit=(1, 4.0), tile_grid_size=(8, 8))\n",
            "\u001b[34m\u001b[1mtrain: \u001b[0mScanning '/content/drive/MyDrive/re_yolov5/dataset/train' images and labels...449 found, 0 missing, 6 empty, 0 corrupt: 100% 449/449 [05:09<00:00,  1.45it/s]\n",
            "\u001b[34m\u001b[1mtrain: \u001b[0mNew cache created: /content/drive/MyDrive/re_yolov5/dataset/train.cache\n",
            "\u001b[34m\u001b[1mval: \u001b[0mScanning '/content/drive/MyDrive/re_yolov5/dataset/train.cache' images and labels... 449 found, 0 missing, 6 empty, 0 corrupt: 100% 449/449 [00:00<?, ?it/s]\n",
            "\n",
            "\u001b[34m\u001b[1mAutoAnchor: \u001b[0m3.64 anchors/target, 0.995 Best Possible Recall (BPR). Current anchors are a good fit to dataset ✅\n",
            "Plotting labels to runs/train/yolov5_re_m/labels.jpg... \n",
            "Image sizes 224 train, 224 val\n",
            "Using 2 dataloader workers\n",
            "Logging results to \u001b[1mruns/train/yolov5_re_m\u001b[0m\n",
            "Starting training for 50 epochs...\n",
            "\n",
            "      Epoch    GPU_mem   box_loss   obj_loss   cls_loss  Instances       Size\n",
            "       0/49      1.72G     0.1176    0.01238    0.03971          7        224: 100% 15/15 [00:11<00:00,  1.27it/s]\n",
            "                 Class     Images  Instances          P          R      mAP50   mAP50-95: 100% 8/8 [00:06<00:00,  1.28it/s]\n",
            "                   all        449       1045    0.00119      0.166     0.0125     0.0026\n",
            "\n",
            "      Epoch    GPU_mem   box_loss   obj_loss   cls_loss  Instances       Size\n",
            "       1/49      1.98G     0.1005     0.0148    0.03266          2        224: 100% 15/15 [00:08<00:00,  1.77it/s]\n",
            "                 Class     Images  Instances          P          R      mAP50   mAP50-95: 100% 8/8 [00:06<00:00,  1.20it/s]\n",
            "                   all        449       1045    0.00229      0.336     0.0146    0.00378\n",
            "\n",
            "      Epoch    GPU_mem   box_loss   obj_loss   cls_loss  Instances       Size\n",
            "       2/49      1.98G    0.08434    0.01835    0.02571          2        224: 100% 15/15 [00:08<00:00,  1.74it/s]\n",
            "                 Class     Images  Instances          P          R      mAP50   mAP50-95: 100% 8/8 [00:06<00:00,  1.20it/s]\n",
            "                   all        449       1045      0.395      0.106     0.0428     0.0108\n",
            "\n",
            "      Epoch    GPU_mem   box_loss   obj_loss   cls_loss  Instances       Size\n",
            "       3/49      1.98G    0.07709    0.01582    0.01914          3        224: 100% 15/15 [00:08<00:00,  1.79it/s]\n",
            "                 Class     Images  Instances          P          R      mAP50   mAP50-95: 100% 8/8 [00:06<00:00,  1.14it/s]\n",
            "                   all        449       1045      0.636      0.311      0.258     0.0667\n",
            "\n",
            "      Epoch    GPU_mem   box_loss   obj_loss   cls_loss  Instances       Size\n",
            "       4/49      1.98G    0.07468    0.01422    0.01518          9        224: 100% 15/15 [00:08<00:00,  1.72it/s]\n",
            "                 Class     Images  Instances          P          R      mAP50   mAP50-95: 100% 8/8 [00:06<00:00,  1.25it/s]\n",
            "                   all        449       1045      0.521      0.304      0.152     0.0386\n",
            "\n",
            "      Epoch    GPU_mem   box_loss   obj_loss   cls_loss  Instances       Size\n",
            "       5/49      1.98G    0.07146    0.01408    0.01138          3        224: 100% 15/15 [00:08<00:00,  1.78it/s]\n",
            "                 Class     Images  Instances          P          R      mAP50   mAP50-95: 100% 8/8 [00:06<00:00,  1.27it/s]\n",
            "                   all        449       1045      0.309      0.452       0.26     0.0738\n",
            "\n",
            "      Epoch    GPU_mem   box_loss   obj_loss   cls_loss  Instances       Size\n",
            "       6/49      1.98G     0.0693    0.01328    0.00901          3        224: 100% 15/15 [00:09<00:00,  1.64it/s]\n",
            "                 Class     Images  Instances          P          R      mAP50   mAP50-95: 100% 8/8 [00:05<00:00,  1.39it/s]\n",
            "                   all        449       1045      0.247      0.422      0.208     0.0529\n",
            "\n",
            "      Epoch    GPU_mem   box_loss   obj_loss   cls_loss  Instances       Size\n",
            "       7/49      1.98G    0.06591    0.01419   0.007568          6        224: 100% 15/15 [00:08<00:00,  1.70it/s]\n",
            "                 Class     Images  Instances          P          R      mAP50   mAP50-95: 100% 8/8 [00:05<00:00,  1.38it/s]\n",
            "                   all        449       1045      0.517      0.619      0.531       0.21\n",
            "\n",
            "      Epoch    GPU_mem   box_loss   obj_loss   cls_loss  Instances       Size\n",
            "       8/49      1.98G    0.05884    0.01232   0.005862          5        224: 100% 15/15 [00:09<00:00,  1.64it/s]\n",
            "                 Class     Images  Instances          P          R      mAP50   mAP50-95: 100% 8/8 [00:05<00:00,  1.39it/s]\n",
            "                   all        449       1045       0.36      0.515      0.379      0.133\n",
            "\n",
            "      Epoch    GPU_mem   box_loss   obj_loss   cls_loss  Instances       Size\n",
            "       9/49      1.98G    0.05588    0.01397    0.00567          8        224: 100% 15/15 [00:08<00:00,  1.81it/s]\n",
            "                 Class     Images  Instances          P          R      mAP50   mAP50-95: 100% 8/8 [00:06<00:00,  1.26it/s]\n",
            "                   all        449       1045      0.465      0.631      0.543       0.19\n",
            "\n",
            "      Epoch    GPU_mem   box_loss   obj_loss   cls_loss  Instances       Size\n",
            "      10/49      1.98G    0.05355    0.01145   0.004472          6        224: 100% 15/15 [00:08<00:00,  1.71it/s]\n",
            "                 Class     Images  Instances          P          R      mAP50   mAP50-95: 100% 8/8 [00:05<00:00,  1.39it/s]\n",
            "                   all        449       1045      0.483       0.66      0.603      0.271\n",
            "\n",
            "      Epoch    GPU_mem   box_loss   obj_loss   cls_loss  Instances       Size\n",
            "      11/49      1.98G    0.04987    0.01201   0.004197          8        224: 100% 15/15 [00:08<00:00,  1.80it/s]\n",
            "                 Class     Images  Instances          P          R      mAP50   mAP50-95: 100% 8/8 [00:06<00:00,  1.18it/s]\n",
            "                   all        449       1045      0.628       0.73      0.735      0.369\n",
            "\n",
            "      Epoch    GPU_mem   box_loss   obj_loss   cls_loss  Instances       Size\n",
            "      12/49      1.98G    0.04908    0.01057   0.003821          5        224: 100% 15/15 [00:08<00:00,  1.82it/s]\n",
            "                 Class     Images  Instances          P          R      mAP50   mAP50-95: 100% 8/8 [00:06<00:00,  1.15it/s]\n",
            "                   all        449       1045      0.702      0.746      0.754      0.338\n",
            "\n",
            "      Epoch    GPU_mem   box_loss   obj_loss   cls_loss  Instances       Size\n",
            "      13/49      1.98G    0.04755    0.01052   0.004123          3        224: 100% 15/15 [00:08<00:00,  1.79it/s]\n",
            "                 Class     Images  Instances          P          R      mAP50   mAP50-95: 100% 8/8 [00:06<00:00,  1.29it/s]\n",
            "                   all        449       1045      0.585      0.738      0.724      0.322\n",
            "\n",
            "      Epoch    GPU_mem   box_loss   obj_loss   cls_loss  Instances       Size\n",
            "      14/49      1.98G    0.04604    0.01149   0.004362          4        224: 100% 15/15 [00:08<00:00,  1.78it/s]\n",
            "                 Class     Images  Instances          P          R      mAP50   mAP50-95: 100% 8/8 [00:06<00:00,  1.25it/s]\n",
            "                   all        449       1045      0.758      0.755      0.801      0.396\n",
            "\n",
            "      Epoch    GPU_mem   box_loss   obj_loss   cls_loss  Instances       Size\n",
            "      15/49      1.98G    0.04364    0.01074   0.003907          8        224: 100% 15/15 [00:09<00:00,  1.60it/s]\n",
            "                 Class     Images  Instances          P          R      mAP50   mAP50-95: 100% 8/8 [00:05<00:00,  1.45it/s]\n",
            "                   all        449       1045      0.677      0.794      0.747      0.378\n",
            "\n",
            "      Epoch    GPU_mem   box_loss   obj_loss   cls_loss  Instances       Size\n",
            "      16/49      1.98G    0.04334    0.01046   0.003466          9        224: 100% 15/15 [00:08<00:00,  1.79it/s]\n",
            "                 Class     Images  Instances          P          R      mAP50   mAP50-95: 100% 8/8 [00:06<00:00,  1.25it/s]\n",
            "                   all        449       1045      0.856      0.839       0.87       0.46\n",
            "\n",
            "      Epoch    GPU_mem   box_loss   obj_loss   cls_loss  Instances       Size\n",
            "      17/49      1.98G    0.04064   0.009304   0.003057          7        224: 100% 15/15 [00:08<00:00,  1.75it/s]\n",
            "                 Class     Images  Instances          P          R      mAP50   mAP50-95: 100% 8/8 [00:06<00:00,  1.18it/s]\n",
            "                   all        449       1045      0.824       0.83       0.83      0.423\n",
            "\n",
            "      Epoch    GPU_mem   box_loss   obj_loss   cls_loss  Instances       Size\n",
            "      18/49      1.98G    0.04053   0.009672   0.003357          2        224: 100% 15/15 [00:08<00:00,  1.82it/s]\n",
            "                 Class     Images  Instances          P          R      mAP50   mAP50-95: 100% 8/8 [00:06<00:00,  1.27it/s]\n",
            "                   all        449       1045       0.85      0.821      0.842      0.435\n",
            "\n",
            "      Epoch    GPU_mem   box_loss   obj_loss   cls_loss  Instances       Size\n",
            "      19/49      1.98G    0.04029   0.009899   0.003477          2        224: 100% 15/15 [00:08<00:00,  1.75it/s]\n",
            "                 Class     Images  Instances          P          R      mAP50   mAP50-95: 100% 8/8 [00:06<00:00,  1.28it/s]\n",
            "                   all        449       1045      0.917      0.842      0.896        0.5\n",
            "\n",
            "      Epoch    GPU_mem   box_loss   obj_loss   cls_loss  Instances       Size\n",
            "      20/49      1.98G     0.0368   0.008971   0.002948          0        224: 100% 15/15 [00:09<00:00,  1.65it/s]\n",
            "                 Class     Images  Instances          P          R      mAP50   mAP50-95: 100% 8/8 [00:05<00:00,  1.37it/s]\n",
            "                   all        449       1045      0.873      0.847      0.872      0.449\n",
            "\n",
            "      Epoch    GPU_mem   box_loss   obj_loss   cls_loss  Instances       Size\n",
            "      21/49      1.98G    0.03861   0.009961   0.002881          7        224: 100% 15/15 [00:08<00:00,  1.71it/s]\n",
            "                 Class     Images  Instances          P          R      mAP50   mAP50-95: 100% 8/8 [00:05<00:00,  1.35it/s]\n",
            "                   all        449       1045      0.903      0.862      0.895      0.513\n",
            "\n",
            "      Epoch    GPU_mem   box_loss   obj_loss   cls_loss  Instances       Size\n",
            "      22/49      1.98G    0.03787   0.009357   0.002677          6        224: 100% 15/15 [00:08<00:00,  1.77it/s]\n",
            "                 Class     Images  Instances          P          R      mAP50   mAP50-95: 100% 8/8 [00:06<00:00,  1.22it/s]\n",
            "                   all        449       1045      0.915      0.888      0.923      0.524\n",
            "\n",
            "      Epoch    GPU_mem   box_loss   obj_loss   cls_loss  Instances       Size\n",
            "      23/49      1.98G    0.03654   0.009549   0.002847          5        224: 100% 15/15 [00:09<00:00,  1.61it/s]\n",
            "                 Class     Images  Instances          P          R      mAP50   mAP50-95: 100% 8/8 [00:05<00:00,  1.37it/s]\n",
            "                   all        449       1045      0.891      0.883      0.906      0.515\n",
            "\n",
            "      Epoch    GPU_mem   box_loss   obj_loss   cls_loss  Instances       Size\n",
            "      24/49      1.98G    0.03528   0.009474   0.002593          6        224: 100% 15/15 [00:08<00:00,  1.73it/s]\n",
            "                 Class     Images  Instances          P          R      mAP50   mAP50-95: 100% 8/8 [00:05<00:00,  1.38it/s]\n",
            "                   all        449       1045      0.906      0.878      0.923      0.528\n",
            "\n",
            "      Epoch    GPU_mem   box_loss   obj_loss   cls_loss  Instances       Size\n",
            "      25/49      1.98G    0.03441   0.009048   0.002511          1        224: 100% 15/15 [00:09<00:00,  1.63it/s]\n",
            "                 Class     Images  Instances          P          R      mAP50   mAP50-95: 100% 8/8 [00:05<00:00,  1.41it/s]\n",
            "                   all        449       1045      0.929      0.886      0.926      0.534\n",
            "\n",
            "      Epoch    GPU_mem   box_loss   obj_loss   cls_loss  Instances       Size\n",
            "      26/49      1.98G    0.03666   0.009761   0.003454          9        224: 100% 15/15 [00:08<00:00,  1.81it/s]\n",
            "                 Class     Images  Instances          P          R      mAP50   mAP50-95: 100% 8/8 [00:06<00:00,  1.17it/s]\n",
            "                   all        449       1045      0.916      0.899       0.92      0.516\n",
            "\n",
            "      Epoch    GPU_mem   box_loss   obj_loss   cls_loss  Instances       Size\n",
            "      27/49      1.98G    0.03426   0.008918   0.002505          2        224: 100% 15/15 [00:08<00:00,  1.80it/s]\n",
            "                 Class     Images  Instances          P          R      mAP50   mAP50-95: 100% 8/8 [00:06<00:00,  1.32it/s]\n",
            "                   all        449       1045      0.934      0.909      0.936      0.546\n",
            "\n",
            "      Epoch    GPU_mem   box_loss   obj_loss   cls_loss  Instances       Size\n",
            "      28/49      1.98G    0.03422   0.008548   0.002044          1        224: 100% 15/15 [00:08<00:00,  1.87it/s]\n",
            "                 Class     Images  Instances          P          R      mAP50   mAP50-95: 100% 8/8 [00:07<00:00,  1.14it/s]\n",
            "                   all        449       1045      0.912      0.909      0.925      0.532\n",
            "\n",
            "      Epoch    GPU_mem   box_loss   obj_loss   cls_loss  Instances       Size\n",
            "      29/49      1.98G    0.03167   0.008665   0.002291          1        224: 100% 15/15 [00:08<00:00,  1.86it/s]\n",
            "                 Class     Images  Instances          P          R      mAP50   mAP50-95: 100% 8/8 [00:06<00:00,  1.27it/s]\n",
            "                   all        449       1045      0.922      0.918      0.946      0.567\n",
            "\n",
            "      Epoch    GPU_mem   box_loss   obj_loss   cls_loss  Instances       Size\n",
            "      30/49      1.98G    0.03036   0.008591   0.002006          1        224: 100% 15/15 [00:08<00:00,  1.82it/s]\n",
            "                 Class     Images  Instances          P          R      mAP50   mAP50-95: 100% 8/8 [00:06<00:00,  1.15it/s]\n",
            "                   all        449       1045      0.934      0.906      0.941      0.569\n",
            "\n",
            "      Epoch    GPU_mem   box_loss   obj_loss   cls_loss  Instances       Size\n",
            "      31/49      1.98G    0.03064   0.008674   0.001962          2        224: 100% 15/15 [00:08<00:00,  1.78it/s]\n",
            "                 Class     Images  Instances          P          R      mAP50   mAP50-95: 100% 8/8 [00:06<00:00,  1.20it/s]\n",
            "                   all        449       1045      0.938       0.92      0.944       0.57\n",
            "\n",
            "      Epoch    GPU_mem   box_loss   obj_loss   cls_loss  Instances       Size\n",
            "      32/49      1.98G    0.03041   0.008451   0.002006          2        224: 100% 15/15 [00:08<00:00,  1.75it/s]\n",
            "                 Class     Images  Instances          P          R      mAP50   mAP50-95: 100% 8/8 [00:06<00:00,  1.18it/s]\n",
            "                   all        449       1045      0.936      0.917      0.944      0.579\n",
            "\n",
            "      Epoch    GPU_mem   box_loss   obj_loss   cls_loss  Instances       Size\n",
            "      33/49      1.98G    0.02982   0.008079   0.002129          1        224: 100% 15/15 [00:09<00:00,  1.66it/s]\n",
            "                 Class     Images  Instances          P          R      mAP50   mAP50-95: 100% 8/8 [00:06<00:00,  1.32it/s]\n",
            "                   all        449       1045      0.932      0.913       0.94       0.57\n",
            "\n",
            "      Epoch    GPU_mem   box_loss   obj_loss   cls_loss  Instances       Size\n",
            "      34/49      1.98G    0.02966   0.008578   0.002358          5        224: 100% 15/15 [00:08<00:00,  1.77it/s]\n",
            "                 Class     Images  Instances          P          R      mAP50   mAP50-95: 100% 8/8 [00:06<00:00,  1.29it/s]\n",
            "                   all        449       1045      0.943      0.922      0.952      0.585\n",
            "\n",
            "      Epoch    GPU_mem   box_loss   obj_loss   cls_loss  Instances       Size\n",
            "      35/49      1.98G    0.03025     0.0091   0.002184          4        224: 100% 15/15 [00:08<00:00,  1.83it/s]\n",
            "                 Class     Images  Instances          P          R      mAP50   mAP50-95: 100% 8/8 [00:06<00:00,  1.15it/s]\n",
            "                   all        449       1045      0.937      0.903      0.942      0.601\n",
            "\n",
            "      Epoch    GPU_mem   box_loss   obj_loss   cls_loss  Instances       Size\n",
            "      36/49      1.98G    0.03002   0.008267   0.002025          3        224: 100% 15/15 [00:09<00:00,  1.63it/s]\n",
            "                 Class     Images  Instances          P          R      mAP50   mAP50-95: 100% 8/8 [00:05<00:00,  1.34it/s]\n",
            "                   all        449       1045       0.92      0.918      0.941      0.579\n",
            "\n",
            "      Epoch    GPU_mem   box_loss   obj_loss   cls_loss  Instances       Size\n",
            "      37/49      1.98G    0.02912   0.008447   0.001915          3        224: 100% 15/15 [00:08<00:00,  1.73it/s]\n",
            "                 Class     Images  Instances          P          R      mAP50   mAP50-95: 100% 8/8 [00:05<00:00,  1.37it/s]\n",
            "                   all        449       1045      0.933      0.918      0.944      0.596\n",
            "\n",
            "      Epoch    GPU_mem   box_loss   obj_loss   cls_loss  Instances       Size\n",
            "      38/49      1.98G    0.02792   0.008395   0.001888          4        224: 100% 15/15 [00:08<00:00,  1.82it/s]\n",
            "                 Class     Images  Instances          P          R      mAP50   mAP50-95: 100% 8/8 [00:06<00:00,  1.27it/s]\n",
            "                   all        449       1045      0.935      0.916      0.944      0.611\n",
            "\n",
            "      Epoch    GPU_mem   box_loss   obj_loss   cls_loss  Instances       Size\n",
            "      39/49      1.98G    0.02884   0.008694   0.002393          7        224: 100% 15/15 [00:08<00:00,  1.82it/s]\n",
            "                 Class     Images  Instances          P          R      mAP50   mAP50-95: 100% 8/8 [00:07<00:00,  1.14it/s]\n",
            "                   all        449       1045      0.955      0.929      0.956      0.613\n",
            "\n",
            "      Epoch    GPU_mem   box_loss   obj_loss   cls_loss  Instances       Size\n",
            "      40/49      1.98G    0.02962   0.009132   0.002282          5        224: 100% 15/15 [00:09<00:00,  1.63it/s]\n",
            "                 Class     Images  Instances          P          R      mAP50   mAP50-95: 100% 8/8 [00:05<00:00,  1.38it/s]\n",
            "                   all        449       1045      0.936      0.925      0.943      0.604\n",
            "\n",
            "      Epoch    GPU_mem   box_loss   obj_loss   cls_loss  Instances       Size\n",
            "      41/49      1.98G    0.02665   0.007539   0.001734          1        224: 100% 15/15 [00:08<00:00,  1.81it/s]\n",
            "                 Class     Images  Instances          P          R      mAP50   mAP50-95: 100% 8/8 [00:06<00:00,  1.25it/s]\n",
            "                   all        449       1045      0.953      0.922      0.951       0.62\n",
            "\n",
            "      Epoch    GPU_mem   box_loss   obj_loss   cls_loss  Instances       Size\n",
            "      42/49      1.98G    0.02623   0.007819   0.001558          2        224: 100% 15/15 [00:09<00:00,  1.66it/s]\n",
            "                 Class     Images  Instances          P          R      mAP50   mAP50-95: 100% 8/8 [00:06<00:00,  1.33it/s]\n",
            "                   all        449       1045      0.952      0.922      0.957      0.622\n",
            "\n",
            "      Epoch    GPU_mem   box_loss   obj_loss   cls_loss  Instances       Size\n",
            "      43/49      1.98G    0.02642   0.008614   0.001661          7        224: 100% 15/15 [00:08<00:00,  1.70it/s]\n",
            "                 Class     Images  Instances          P          R      mAP50   mAP50-95: 100% 8/8 [00:06<00:00,  1.21it/s]\n",
            "                   all        449       1045      0.954      0.929      0.956      0.624\n",
            "\n",
            "      Epoch    GPU_mem   box_loss   obj_loss   cls_loss  Instances       Size\n",
            "      44/49      1.98G    0.02543    0.00821   0.001509          7        224: 100% 15/15 [00:08<00:00,  1.67it/s]\n",
            "                 Class     Images  Instances          P          R      mAP50   mAP50-95: 100% 8/8 [00:05<00:00,  1.34it/s]\n",
            "                   all        449       1045      0.948       0.93      0.958      0.623\n",
            "\n",
            "      Epoch    GPU_mem   box_loss   obj_loss   cls_loss  Instances       Size\n",
            "      45/49      1.98G    0.02558   0.007913   0.001548          3        224: 100% 15/15 [00:08<00:00,  1.81it/s]\n",
            "                 Class     Images  Instances          P          R      mAP50   mAP50-95: 100% 8/8 [00:06<00:00,  1.26it/s]\n",
            "                   all        449       1045      0.962      0.924      0.957      0.627\n",
            "\n",
            "      Epoch    GPU_mem   box_loss   obj_loss   cls_loss  Instances       Size\n",
            "      46/49      1.98G    0.02652   0.008279   0.002283         10        224: 100% 15/15 [00:09<00:00,  1.60it/s]\n",
            "                 Class     Images  Instances          P          R      mAP50   mAP50-95: 100% 8/8 [00:05<00:00,  1.37it/s]\n",
            "                   all        449       1045      0.945      0.931      0.957      0.633\n",
            "\n",
            "      Epoch    GPU_mem   box_loss   obj_loss   cls_loss  Instances       Size\n",
            "      47/49      1.98G    0.02468   0.007989   0.001316          6        224: 100% 15/15 [00:09<00:00,  1.64it/s]\n",
            "                 Class     Images  Instances          P          R      mAP50   mAP50-95: 100% 8/8 [00:05<00:00,  1.37it/s]\n",
            "                   all        449       1045      0.943      0.932      0.956      0.643\n",
            "\n",
            "      Epoch    GPU_mem   box_loss   obj_loss   cls_loss  Instances       Size\n",
            "      48/49      1.98G    0.02347   0.007726   0.001495          3        224: 100% 15/15 [00:09<00:00,  1.63it/s]\n",
            "                 Class     Images  Instances          P          R      mAP50   mAP50-95: 100% 8/8 [00:06<00:00,  1.33it/s]\n",
            "                   all        449       1045      0.943      0.934      0.958      0.646\n",
            "\n",
            "      Epoch    GPU_mem   box_loss   obj_loss   cls_loss  Instances       Size\n",
            "      49/49      1.98G    0.02337   0.007714   0.001369          5        224: 100% 15/15 [00:08<00:00,  1.71it/s]\n",
            "                 Class     Images  Instances          P          R      mAP50   mAP50-95: 100% 8/8 [00:06<00:00,  1.25it/s]\n",
            "                   all        449       1045      0.955      0.939       0.96      0.648\n",
            "\n",
            "50 epochs completed in 0.233 hours.\n",
            "Optimizer stripped from runs/train/yolov5_re_m/weights/last.pt, 42.1MB\n",
            "Optimizer stripped from runs/train/yolov5_re_m/weights/best.pt, 42.1MB\n",
            "\n",
            "Validating runs/train/yolov5_re_m/weights/best.pt...\n",
            "Fusing layers... \n",
            "YOLOv5m summary: 212 layers, 20861016 parameters, 0 gradients\n",
            "                 Class     Images  Instances          P          R      mAP50   mAP50-95: 100% 8/8 [00:04<00:00,  1.76it/s]\n",
            "                   all        449       1045      0.955      0.939      0.959      0.648\n",
            "                  ball        449        343       0.96      0.945      0.957      0.662\n",
            "                  goal        449        404      0.912      0.876      0.926      0.494\n",
            "                keeper        449        298      0.993      0.995      0.995      0.787\n",
            "Results saved to \u001b[1mruns/train/yolov5_re_m\u001b[0m\n"
          ]
        }
      ],
      "source": [
        "%cd \"/content/drive/MyDrive/re_yolov5/yolov5\"\n",
        "\n",
        "!python train.py --img 224 --batch 32 --epochs 50 --data dataset.yaml --cfg ./models/yolov5m.yaml --weights yolov5m.pt --name yolov5_re_m"
      ]
    },
    {
      "cell_type": "code",
      "execution_count": null,
      "metadata": {
        "colab": {
          "base_uri": "https://localhost:8080/"
        },
        "id": "YIE2WqMaGOBC",
        "outputId": "cf64a75f-5382-4bd6-ae70-3fe87e726397"
      },
      "outputs": [
        {
          "name": "stdout",
          "output_type": "stream",
          "text": [
            "/content/drive/MyDrive/re_yolov5/yolov5\n"
          ]
        }
      ],
      "source": [
        "%cd \"/content/drive/MyDrive/re_yolov5/yolov5\""
      ]
    },
    {
      "cell_type": "code",
      "execution_count": null,
      "metadata": {
        "colab": {
          "base_uri": "https://localhost:8080/"
        },
        "id": "Vx5EBj7Y8_Jo",
        "outputId": "47819d5b-3549-419a-9be3-a5c9da3a6d2a"
      },
      "outputs": [
        {
          "name": "stdout",
          "output_type": "stream",
          "text": [
            "\u001b[34m\u001b[1mexport: \u001b[0mdata=drive/MyDrive/re_yolov5/yolov5/data/coco128.yaml, weights=['/content/drive/MyDrive/re_yolov5/yolov5/runs/train/yolov5_re_m/weights/best.pt'], imgsz=[224], batch_size=1, device=cpu, half=False, inplace=False, keras=False, optimize=False, int8=False, dynamic=False, simplify=False, opset=12, verbose=False, workspace=4, nms=False, agnostic_nms=False, topk_per_class=100, topk_all=100, iou_thres=0.45, conf_thres=0.25, include=['torchscript']\n",
            "YOLOv5 🚀 v6.2-169-g959a466 Python-3.7.14 torch-1.12.1+cu113 CPU\n",
            "\n",
            "Fusing layers... \n",
            "YOLOv5m summary: 212 layers, 20861016 parameters, 0 gradients\n",
            "\n",
            "\u001b[34m\u001b[1mPyTorch:\u001b[0m starting from /content/drive/MyDrive/re_yolov5/yolov5/runs/train/yolov5_re_m/weights/best.pt with output shape (1, 3087, 8) (40.1 MB)\n",
            "\n",
            "\u001b[34m\u001b[1mTorchScript:\u001b[0m starting export with torch 1.12.1+cu113...\n",
            "\u001b[34m\u001b[1mTorchScript:\u001b[0m export success ✅ 2.5s, saved as /content/drive/MyDrive/re_yolov5/yolov5/runs/train/yolov5_re_m/weights/best.torchscript (80.0 MB)\n",
            "\n",
            "Export complete (4.5s)\n",
            "Results saved to \u001b[1m/content/drive/MyDrive/re_yolov5/yolov5/runs/train/yolov5_re_m/weights\u001b[0m\n",
            "Detect:          python detect.py --weights /content/drive/MyDrive/re_yolov5/yolov5/runs/train/yolov5_re_m/weights/best.torchscript \n",
            "Validate:        python val.py --weights /content/drive/MyDrive/re_yolov5/yolov5/runs/train/yolov5_re_m/weights/best.torchscript \n",
            "PyTorch Hub:     model = torch.hub.load('ultralytics/yolov5', 'custom', '/content/drive/MyDrive/re_yolov5/yolov5/runs/train/yolov5_re_m/weights/best.torchscript')\n",
            "Visualize:       https://netron.app\n"
          ]
        }
      ],
      "source": [
        "# pt to onnx\n",
        "!python /content/drive/MyDrive/re_yolov5/yolov5/export.py --weights /content/drive/MyDrive/re_yolov5/yolov5/runs/train/yolov5_re_m/weights/best.pt --img 224 --batch 1"
      ]
    },
    {
      "cell_type": "code",
      "execution_count": null,
      "metadata": {
        "colab": {
          "base_uri": "https://localhost:8080/"
        },
        "id": "O2ER3fpB--7F",
        "outputId": "53ab927b-cf4c-4be3-d356-df759ced5a31"
      },
      "outputs": [
        {
          "name": "stdout",
          "output_type": "stream",
          "text": [
            "\u001b[34m\u001b[1mmodels/tf: \u001b[0mweights=/content/drive/MyDrive/re_yolov5/yolov5/runs/train/yolov5_re_m/weights/best.pt, imgsz=[224, 224], batch_size=1, dynamic=False\n",
            "YOLOv5m summary: 291 layers, 20879400 parameters, 0 gradients\n",
            "2022-09-26 08:54:35.184551: W tensorflow/core/common_runtime/gpu/gpu_bfc_allocator.cc:39] Overriding allow_growth setting because the TF_FORCE_GPU_ALLOW_GROWTH environment variable is set. Original config value was 0.\n",
            "\n",
            "                 from  n    params  module                                  arguments                     \n",
            "  0                -1  1      5280  models.common.Conv                      [3, 48, 6, 2, 2]              \n",
            "  1                -1  1     41664  models.common.Conv                      [48, 96, 3, 2]                \n",
            "  2                -1  1     65280  models.common.C3                        [96, 96, 2]                   \n",
            "  3                -1  1    166272  models.common.Conv                      [96, 192, 3, 2]               \n",
            "  4                -1  1    444672  models.common.C3                        [192, 192, 4]                 \n",
            "  5                -1  1    664320  models.common.Conv                      [192, 384, 3, 2]              \n",
            "  6                -1  1   2512896  models.common.C3                        [384, 384, 6]                 \n",
            "  7                -1  1   2655744  models.common.Conv                      [384, 768, 3, 2]              \n",
            "  8                -1  1   4134912  models.common.C3                        [768, 768, 2]                 \n",
            "  9                -1  1   1476864  models.common.SPPF                      [768, 768, 5]                 \n",
            " 10                -1  1    295680  models.common.Conv                      [768, 384, 1, 1]              \n",
            " 11                -1  1         0  torch.nn.modules.upsampling.Upsample    [None, 2, 'nearest']          \n",
            " 12           [-1, 6]  1         0  models.common.Concat                    [1]                           \n",
            " 13                -1  1   1182720  models.common.C3                        [768, 384, 2, False]          \n",
            " 14                -1  1     74112  models.common.Conv                      [384, 192, 1, 1]              \n",
            " 15                -1  1         0  torch.nn.modules.upsampling.Upsample    [None, 2, 'nearest']          \n",
            " 16           [-1, 4]  1         0  models.common.Concat                    [1]                           \n",
            " 17                -1  1    296448  models.common.C3                        [384, 192, 2, False]          \n",
            " 18                -1  1    332160  models.common.Conv                      [192, 192, 3, 2]              \n",
            " 19          [-1, 14]  1         0  models.common.Concat                    [1]                           \n",
            " 20                -1  1   1035264  models.common.C3                        [384, 384, 2, False]          \n",
            " 21                -1  1   1327872  models.common.Conv                      [384, 384, 3, 2]              \n",
            " 22          [-1, 10]  1         0  models.common.Concat                    [1]                           \n",
            " 23                -1  1   4134912  models.common.C3                        [768, 768, 2, False]          \n",
            " 24      [17, 20, 23]  1     32328  models.yolo.Detect                      [3, [[10, 13, 16, 30, 33, 23], [30, 61, 62, 45, 59, 119], [116, 90, 156, 198, 373, 326]], [192, 384, 768], [224, 224]]\n",
            "Model: \"model\"\n",
            "__________________________________________________________________________________________________\n",
            " Layer (type)                   Output Shape         Param #     Connected to                     \n",
            "==================================================================================================\n",
            " input_1 (InputLayer)           [(1, 224, 224, 3)]   0           []                               \n",
            "                                                                                                  \n",
            " tf_conv (TFConv)               (1, 112, 112, 48)    5376        ['input_1[0][0]']                \n",
            "                                                                                                  \n",
            " tf_conv_1 (TFConv)             (1, 56, 56, 96)      41856       ['tf_conv[0][0]']                \n",
            "                                                                                                  \n",
            " tfc3 (TFC3)                    (1, 56, 56, 96)      66048       ['tf_conv_1[0][0]']              \n",
            "                                                                                                  \n",
            " tf_conv_9 (TFConv)             (1, 28, 28, 192)     166656      ['tfc3[0][0]']                   \n",
            "                                                                                                  \n",
            " tfc3_1 (TFC3)                  (1, 28, 28, 192)     446976      ['tf_conv_9[0][0]']              \n",
            "                                                                                                  \n",
            " tf_conv_21 (TFConv)            (1, 14, 14, 384)     665088      ['tfc3_1[0][0]']                 \n",
            "                                                                                                  \n",
            " tfc3_2 (TFC3)                  (1, 14, 14, 384)     2519040     ['tf_conv_21[0][0]']             \n",
            "                                                                                                  \n",
            " tf_conv_37 (TFConv)            (1, 7, 7, 768)       2657280     ['tfc3_2[0][0]']                 \n",
            "                                                                                                  \n",
            " tfc3_3 (TFC3)                  (1, 7, 7, 768)       4141056     ['tf_conv_37[0][0]']             \n",
            "                                                                                                  \n",
            " tfsppf (TFSPPF)                (1, 7, 7, 768)       1479168     ['tfc3_3[0][0]']                 \n",
            "                                                                                                  \n",
            " tf_conv_47 (TFConv)            (1, 7, 7, 384)       296448      ['tfsppf[0][0]']                 \n",
            "                                                                                                  \n",
            " tf_upsample (TFUpsample)       (1, 14, 14, 384)     0           ['tf_conv_47[0][0]']             \n",
            "                                                                                                  \n",
            " tf_concat (TFConcat)           (1, 14, 14, 768)     0           ['tf_upsample[0][0]',            \n",
            "                                                                  'tfc3_2[0][0]']                 \n",
            "                                                                                                  \n",
            " tfc3_4 (TFC3)                  (1, 14, 14, 384)     1185792     ['tf_concat[0][0]']              \n",
            "                                                                                                  \n",
            " tf_conv_55 (TFConv)            (1, 14, 14, 192)     74496       ['tfc3_4[0][0]']                 \n",
            "                                                                                                  \n",
            " tf_upsample_1 (TFUpsample)     (1, 28, 28, 192)     0           ['tf_conv_55[0][0]']             \n",
            "                                                                                                  \n",
            " tf_concat_1 (TFConcat)         (1, 28, 28, 384)     0           ['tf_upsample_1[0][0]',          \n",
            "                                                                  'tfc3_1[0][0]']                 \n",
            "                                                                                                  \n",
            " tfc3_5 (TFC3)                  (1, 28, 28, 192)     297984      ['tf_concat_1[0][0]']            \n",
            "                                                                                                  \n",
            " tf_conv_63 (TFConv)            (1, 14, 14, 192)     332544      ['tfc3_5[0][0]']                 \n",
            "                                                                                                  \n",
            " tf_concat_2 (TFConcat)         (1, 14, 14, 384)     0           ['tf_conv_63[0][0]',             \n",
            "                                                                  'tf_conv_55[0][0]']             \n",
            "                                                                                                  \n",
            " tfc3_6 (TFC3)                  (1, 14, 14, 384)     1038336     ['tf_concat_2[0][0]']            \n",
            "                                                                                                  \n",
            " tf_conv_71 (TFConv)            (1, 7, 7, 384)       1328640     ['tfc3_6[0][0]']                 \n",
            "                                                                                                  \n",
            " tf_concat_3 (TFConcat)         (1, 7, 7, 768)       0           ['tf_conv_71[0][0]',             \n",
            "                                                                  'tf_conv_47[0][0]']             \n",
            "                                                                                                  \n",
            " tfc3_7 (TFC3)                  (1, 7, 7, 768)       4141056     ['tf_concat_3[0][0]']            \n",
            "                                                                                                  \n",
            " tf_detect (TFDetect)           ((1, 3087, 8),       32328       ['tfc3_5[0][0]',                 \n",
            "                                )                                 'tfc3_6[0][0]',                 \n",
            "                                                                  'tfc3_7[0][0]']                 \n",
            "                                                                                                  \n",
            "==================================================================================================\n",
            "Total params: 20,916,168\n",
            "Trainable params: 20,879,400\n",
            "Non-trainable params: 36,768\n",
            "__________________________________________________________________________________________________\n",
            "PyTorch, TensorFlow and Keras models successfully verified.\n",
            "Use export.py for TF model export.\n"
          ]
        }
      ],
      "source": [
        "!python /content/drive/MyDrive/re_yolov5/yolov5/models/tf.py --weights /content/drive/MyDrive/re_yolov5/yolov5/runs/train/yolov5_re_m/weights/best.pt --img-size 224 --batch 1"
      ]
    },
    {
      "cell_type": "code",
      "execution_count": null,
      "metadata": {
        "colab": {
          "background_save": true,
          "base_uri": "https://localhost:8080/"
        },
        "id": "e3DILbZR4MUg",
        "outputId": "99918ac1-7610-48fe-8954-fc9e03a21018"
      },
      "outputs": [
        {
          "name": "stdout",
          "output_type": "stream",
          "text": [
            "Looking in indexes: https://pypi.org/simple, https://us-python.pkg.dev/colab-wheels/public/simple/\n",
            "Requirement already satisfied: protobuf==3.6.0 in /usr/local/lib/python3.7/dist-packages (3.6.0)\n",
            "Requirement already satisfied: six>=1.9 in /usr/local/lib/python3.7/dist-packages (from protobuf==3.6.0) (1.15.0)\n",
            "Requirement already satisfied: setuptools in /usr/local/lib/python3.7/dist-packages (from protobuf==3.6.0) (57.4.0)\n"
          ]
        }
      ],
      "source": [
        "!python export.py --weights /content/drive/MyDrive/re_yolov5/yolov5/runs/train/yolov5_re_m/weights/best.pt --include tflite --int8"
      ]
    },
    {
      "cell_type": "code",
      "execution_count": null,
      "metadata": {
        "id": "7neuSmDa-kJo"
      },
      "outputs": [],
      "source": [
        "# %pip install onnx_tf\n",
        "# %pip install onnx"
      ]
    },
    {
      "cell_type": "code",
      "execution_count": null,
      "metadata": {
        "colab": {
          "base_uri": "https://localhost:8080/"
        },
        "id": "QWMQ3z0q9l2_",
        "outputId": "ae773b04-ed40-4f03-ac63-f0a285730112"
      },
      "outputs": [
        {
          "output_type": "stream",
          "name": "stderr",
          "text": [
            "WARNING:absl:Found untraced functions such as gen_tensor_dict while saving (showing 1 of 1). These functions will not be directly callable after loading.\n"
          ]
        }
      ],
      "source": [
        "# onnx to pb\n",
        "import onnx\n",
        "from onnx_tf.backend import prepare\n",
        "\n",
        "onnx_model = onnx.load(\"/content/drive/MyDrive/re_yolov5/yolov5/runs/train/yolov5_re_m/weights/best.onnx\")  # load onnx model\n",
        "tf_rep = prepare(onnx_model)  # prepare tf representation\n",
        "tf_rep.export_graph(\"/content/drive/MyDrive/re_yolov5/yolov5/runs/train/yolov5_re_m/weights/best.pb\")  # export the model"
      ]
    },
    {
      "cell_type": "code",
      "source": [
        "# # https://github.com/ultralytics/yolov5/issues/232\n",
        "\n",
        "# import tensorflow as tf\n",
        "\n",
        "# def wrap_frozen_graph(graph_def, inputs, outputs):\n",
        "#     def _imports_graph_def():\n",
        "#         tf.compat.v1.import_graph_def(graph_def, name=\"\")\n",
        "\n",
        "#     wrapped_import = tf.compat.v1.wrap_function(_imports_graph_def, [])\n",
        "#     import_graph = wrapped_import.graph\n",
        "\n",
        "#     return wrapped_import.prune(\n",
        "#         tf.nest.map_structure(import_graph.as_graph_element, inputs),\n",
        "#         tf.nest.map_structure(import_graph.as_graph_element, outputs))\n",
        "\n",
        "# # with tf.io.gfile.GFile(\"/content/drive/MyDrive/re_yolov5/yolov5/runs/train/yolov5_re_m/weights/best.pb/saved_model.pb\", \"rb\") as f:\n",
        "# #     graph_def = tf.compat.v1.GraphDef()\n",
        "# #     loaded = graph_def.ParseFromString(f.read())\n",
        "\n",
        "# tf.saved_model.load('/content/drive/MyDrive/re_yolov5/yolov5/runs/train/yolov5_re_m/weights/best.pb')"
      ],
      "metadata": {
        "id": "wRXVC3nqMIFu"
      },
      "execution_count": null,
      "outputs": []
    },
    {
      "cell_type": "code",
      "source": [
        "# frozen_func = wrap_frozen_graph(graph_def=graph_def,\n",
        "#                                 inputs=[\"images:0\"],\n",
        "#                                 outputs=['output_0:0','output_1:0', 'output_2:0'])\n"
      ],
      "metadata": {
        "id": "LSayeyGUMtmx"
      },
      "execution_count": null,
      "outputs": []
    }
  ],
  "metadata": {
    "accelerator": "GPU",
    "colab": {
      "collapsed_sections": [],
      "provenance": []
    },
    "kernelspec": {
      "display_name": "Python 3",
      "name": "python3"
    },
    "language_info": {
      "name": "python"
    }
  },
  "nbformat": 4,
  "nbformat_minor": 0
}